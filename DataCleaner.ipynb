import pandas as pd
import numpy as np
from datetime import datetime as dt
from matplotlib import pyplot as plt
import xgboost as xgb
from sklearn.metrics import mean_squared_error
bpw1_t = pd.read_csv("data/bridgeport1week1-train.csv")
raw = bpw1_t
raw_nadrop = raw.dropna(axis = "columns", how = "all")
colnames = list(raw_nadrop.columns[range(0,len(raw_nadrop.columns),2)])
colval = list(raw_nadrop.columns[range(1,len(raw_nadrop.columns),2)].values)
time = raw_nadrop[colnames[0]].loc[1:].values
data = raw_nadrop[colval].loc[1:]
g = raw_nadrop[[colnames[0], colval[0]]].loc[1:]
g.rename(columns = {colnames[0]: "time", colval[0]: colnames[0]}, inplace = True)
frmt = "%m/%d/%y %H:%M"
g["time"] = [dt.strptime(t, frmt) for t in g["time"].values]
g.dropna(axis = "rows", how = "all", inplace = True)
for i in range(1, len(colnames)):
    temp = raw_nadrop[[colnames[i],colval[i]]].iloc[1:]
    temp.rename(columns = {colnames[i]: "time", colval[i]: colnames[i]}, inplace = True)
    temp.dropna(axis = "rows", how = "all", inplace = True)
    temp["time"] = [dt.strptime(t, frmt) for t in temp["time"].values ]
    g = g.merge(temp, how = "outer", on = "time")
g.sort_values('time', inplace = True)
g = g.reset_index(drop = True)
gcopy = g.copy()
isnan = gcopy.isnull()
row = isnan.any(axis=1)
rownan = gcopy[row]
indlst = rownan.index
buffer = 180
for ind in indlst:
    if ind != 0:
        before = abs((gcopy.iloc[ind]["time"] - gcopy.iloc[ind - 1]["time"]) / np.timedelta64(1, 's')) <= buffer
        if before:
            gcopy.iloc[ind] = gcopy.iloc[ind].combine_first(gcopy.iloc[ind - 1])
    if ind != len(gcopy) - 1:
        after = abs((gcopy.iloc[ind]["time"] - gcopy.iloc[ind + 1]["time"]) / np.timedelta64(1, 's')) <= buffer
        if after:
            gcopy.iloc[ind] = gcopy.iloc[ind].combine_first(gcopy.iloc[ind + 1])
gcopy.drop_duplicates(subset=colnames, inplace = True)
gcopy = gcopy.reset_index(drop = True)
gcopy[colnames] = gcopy[colnames].astype(float)
ginterp = gcopy.interpolate(method='linear', axis=0)
combdata = pd.DataFrame()
y_data = pd.DataFrame()
x_data = pd.DataFrame()
dmg = pd.DataFrame()
colnames = ginterp.columns.values
for j in range(0, len(colnames)):
    sign = [i for i in range(len(colnames[j])) if colnames[j].startswith('>', i)]
    if len(sign) > 3: 
        if(colnames[j][sign[-2]+1 :sign[-1]].strip()=="Y-Radial"):
            if (colnames[j][sign[-1]+1:].strip() == "Damage Accumulation"):
                dmg["Y_"+colnames[j][sign[-1]+1:].strip()] = ginterp[colnames[j]].values
            else:
                y_data["Y_"+colnames[j][sign[-1]+1:].strip()] = ginterp[colnames[j]].values
                combdata["Y_"+colnames[j][sign[-1]+1:].strip()] = ginterp[colnames[j]].values
        elif(colnames[j][sign[-2]+1 :sign[-1]].strip()=="X-Axial"):
            if (colnames[j][sign[-1]+1:].strip() == "Damage Accumulation"):
                dmg["X_"+colnames[j][sign[-1]+1:].strip()] = ginterp[colnames[j]].values
            else:
                x_data["X_"+colnames[j][sign[-1]+1:].strip()] = ginterp[colnames[j]].values
                combdata["X_"+colnames[j][sign[-1]+1:].strip()] = ginterp[colnames[j]].values
    elif len(sign) > 0:
        combdata[colnames[j][sign[-1]+1:].strip()] = ginterp[colnames[j]].values
    else:
        combdata[colnames[j]] = ginterp[colnames[j]].values
dmg.sort_index(axis = 1, inplace = True)
x_data.sort_index(axis = 1, inplace = True)
y_data.sort_index(axis = 1, inplace = True)
combdata.sort_index(axis = 1, inplace = True)
telapsed = [(combdata["time"].iloc[t] - combdata["time"].iloc[0]) / np.timedelta64(1, 'm') for t in range(len(combdata))]
xdmgaccum = [dmg[dmg.columns[0]].iloc[:t].sum() for t in range(len(dmg))]
ydmgaccum = [dmg[dmg.columns[1]].iloc[:t].sum() for t in range(len(dmg))]
